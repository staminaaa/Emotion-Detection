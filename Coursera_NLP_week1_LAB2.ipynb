{
  "nbformat": 4,
  "nbformat_minor": 0,
  "metadata": {
    "colab": {
      "name": "Coursera NLP week1 LAB2.ipynb",
      "provenance": [],
      "collapsed_sections": [],
      "authorship_tag": "ABX9TyPDRJU/CQqkhdef/O6YTiZb",
      "include_colab_link": true
    },
    "kernelspec": {
      "name": "python3",
      "display_name": "Python 3"
    },
    "language_info": {
      "name": "python"
    }
  },
  "cells": [
    {
      "cell_type": "markdown",
      "metadata": {
        "id": "view-in-github",
        "colab_type": "text"
      },
      "source": [
        "<a href=\"https://colab.research.google.com/github/staminaaa/Emotion-Detection/blob/master/Coursera_NLP_week1_LAB2.ipynb\" target=\"_parent\"><img src=\"https://colab.research.google.com/assets/colab-badge.svg\" alt=\"Open In Colab\"/></a>"
      ]
    },
    {
      "cell_type": "code",
      "metadata": {
        "id": "pr3CiPI6kowO"
      },
      "source": [
        "import tensorflow as tf\n",
        "from tensorflow import keras"
      ],
      "execution_count": 3,
      "outputs": []
    },
    {
      "cell_type": "markdown",
      "metadata": {
        "id": "_Ghde4xEmrwP"
      },
      "source": [
        "**Tokenizer** : Given by Tensorflow and keras to **encode** words.\n",
        "We use **padding** or truncation to make all of the sentences the same length."
      ]
    },
    {
      "cell_type": "code",
      "metadata": {
        "id": "nDgNfEbEmuys"
      },
      "source": [
        "from tensorflow.keras.preprocessing.text import Tokenizer \n",
        "from tensorflow.keras.preprocessing.sequence import pad_sequences"
      ],
      "execution_count": 2,
      "outputs": []
    },
    {
      "cell_type": "code",
      "metadata": {
        "id": "YlsxAYz7nc-t"
      },
      "source": [
        "sentences = [\n",
        "    'I love my dog',\n",
        "    'I love my cat',\n",
        "    'You love my dog!',\n",
        "    'Do you think my dog is amazing?' #this sentence has more words than the previous ones\n",
        "]"
      ],
      "execution_count": 6,
      "outputs": []
    },
    {
      "cell_type": "markdown",
      "metadata": {
        "id": "i8ig-VF0s_N9"
      },
      "source": [
        "***num_words*** = takes the most comman 100 words ***oov_token*** :create a new token, a special token that I'm going to use for words that aren't recognized, that aren't in the word index itself. otherwise we will have smthg like **my dog my** now we have \n",
        "**fit_on_text** : take the data and encode it : go through the entire body of text and will write a dict  with key is the word andthe value is the token of the word."
      ]
    },
    {
      "cell_type": "code",
      "metadata": {
        "colab": {
          "base_uri": "https://localhost:8080/"
        },
        "id": "20nm0AJ1pcrQ",
        "outputId": "8264abc0-0582-45d6-a162-a88f47823310"
      },
      "source": [
        "tokenizer = Tokenizer(num_words = 100, oov_token=\"<OOV>\")\n",
        "tokenizer.fit_on_texts(sentences)\n",
        "word_index = tokenizer.word_index #provides every word an index\n",
        "print(\"\\nWord Index = \" , word_index) #prints l index + the unique words of the text\n"
      ],
      "execution_count": 10,
      "outputs": [
        {
          "output_type": "stream",
          "name": "stdout",
          "text": [
            "\n",
            "Word Index =  {'<OOV>': 1, 'my': 2, 'love': 3, 'dog': 4, 'i': 5, 'you': 6, 'cat': 7, 'do': 8, 'think': 9, 'is': 10, 'amazing': 11}\n"
          ]
        }
      ]
    },
    {
      "cell_type": "markdown",
      "metadata": {
        "id": "ji3IIHTivDQT"
      },
      "source": [
        "We have a total of 11 words, 11 unique words in this corpus. It's actually 10 words plus the OOV token"
      ]
    },
    {
      "cell_type": "markdown",
      "metadata": {
        "id": "VEwivGr6vWHW"
      },
      "source": [
        " We can then convert the words in those sentences to **sequences of tokens** by calling the** text to sequences method**. That's going to produce sequences. . So my sequences are 5324, 5327, 6324, 8692, 41011."
      ]
    },
    {
      "cell_type": "code",
      "metadata": {
        "colab": {
          "base_uri": "https://localhost:8080/"
        },
        "id": "1SZSlP1oqvmd",
        "outputId": "83508de3-82cd-4e46-a50c-6dc9c258aa1a"
      },
      "source": [
        "sequences = tokenizer.texts_to_sequences(sentences) #turn sentences into lists of values based on based on these tokens\n",
        "print(\"\\nSequences = \" , sequences) #matrix : every number is symbol w a word d'aprés word_index\n"
      ],
      "execution_count": 9,
      "outputs": [
        {
          "output_type": "stream",
          "name": "stdout",
          "text": [
            "\n",
            "Sequences =  [[5, 3, 2, 4], [5, 3, 2, 7], [6, 3, 2, 4], [8, 6, 9, 2, 4, 10, 11]]\n"
          ]
        }
      ]
    },
    {
      "cell_type": "markdown",
      "metadata": {
        "id": "B3jLh1w2vRLO"
      },
      "source": [
        "we can see these are all different length, but we want to make them the same length. So that's where **Pad Sequences** comes into it"
      ]
    },
    {
      "cell_type": "code",
      "metadata": {
        "colab": {
          "base_uri": "https://localhost:8080/"
        },
        "id": "_bT4zYZntooE",
        "outputId": "2ec2b24f-e16b-4805-8fa2-97cd5826b263"
      },
      "source": [
        "padded = pad_sequences(sequences, maxlen=5) # ken zedna post raw no9so mel ekhr l kelmt f sequence\n",
        "print(\"\\nPadded Sequences:\")\n",
        "print(padded)"
      ],
      "execution_count": 11,
      "outputs": [
        {
          "output_type": "stream",
          "name": "stdout",
          "text": [
            "\n",
            "Padded Sequences:\n",
            "[[ 0  5  3  2  4]\n",
            " [ 0  5  3  2  7]\n",
            " [ 0  6  3  2  4]\n",
            " [ 9  2  4 10 11]]\n"
          ]
        }
      ]
    }
  ]
}